{
 "cells": [
  {
   "cell_type": "markdown",
   "metadata": {
    "deletable": false,
    "editable": false,
    "nbgrader": {
     "cell_type": "markdown",
     "checksum": "3bc7653105e5ed0073dcef3c7f7f16e0",
     "grade": false,
     "grade_id": "cell-a2e361ced7b8d278",
     "locked": true,
     "schema_version": 3,
     "solution": false
    }
   },
   "source": [
    "# Assignment 5: Experimentation\n",
    "\n",
    "The biological and social sciences are largely built upon experimentation. With that in mind, this assignment is focused on using Python applications, deubgging, & writing good, clean and well-documented code. It builds up to the application of experimentation.\n",
    "\n",
    "This assignment is out of 8 points, worth 8% of your grade.\n",
    "\n",
    "**PLEASE DO NOT CHANGE THE NAME OF THIS FILE.**\n",
    "\n",
    "**PLEASE DO NOT COPY & PASTE OR DELETE CELLS INLCUDED IN THE ASSIGNMENT.**"
   ]
  },
  {
   "cell_type": "markdown",
   "metadata": {
    "deletable": false,
    "editable": false,
    "nbgrader": {
     "cell_type": "markdown",
     "checksum": "c2a9deb93f9faf1ce4a7de0adbac6cbf",
     "grade": false,
     "grade_id": "cell-61cf1dd6683dc402",
     "locked": true,
     "schema_version": 3,
     "solution": false
    }
   },
   "source": [
    "## Overview\n",
    "\n",
    "Make sure you delete `raise NotImplementedError()` whenever you see it in the assignment, replacing it with your code for the question. To have the best chance at receiving full credit, be sure your completed assignment passes all the asserts. This assignment also has hidden tests - which means that passing all the asserts you see does not guarantee that you have the correct answer! Make sure to double check and re-run your code to make sure it does what you expect."
   ]
  },
  {
   "cell_type": "markdown",
   "metadata": {
    "deletable": false,
    "editable": false,
    "nbgrader": {
     "cell_type": "markdown",
     "checksum": "4542eb756dae6bfb7b1a823d69668a8e",
     "grade": false,
     "grade_id": "cell-6c5d267e39e934b7",
     "locked": true,
     "schema_version": 3,
     "solution": false
    }
   },
   "source": [
    "## Setup\n",
    "\n",
    "#### Package Installation\n",
    "\n",
    "To use the `pandas` and `numpy` packages, you *may* have to install them first.\n",
    "\n",
    "Up to now, we've only used packages that have already been installed for you. Notice the `!` below. This indicates that we're running a command in the shell, not in Python. \n",
    "\n",
    "`pip install --user` followed by the package name you want to install is how you can install new packages in the terminal on your computer or on datahub. Note that if installing from a Jupyter Notebook (as we are here, you'll need to start with a `!` to indicate that this is a terminal/shell command.\n",
    "\n",
    "**First try the code imports in the section below**. If they run, the packages have been installed. If they error, uncomment the each of the two lines below to install the `pandas` and `numpy` packages. Each will take a minute or two to run. You only have to run this once (not every time you open the notebook). Once you have installed the package, recomment the line of code:"
   ]
  },
  {
   "cell_type": "code",
   "execution_count": null,
   "metadata": {},
   "outputs": [],
   "source": [
    "# !pip install --user pandas"
   ]
  },
  {
   "cell_type": "code",
   "execution_count": null,
   "metadata": {},
   "outputs": [],
   "source": [
    "#!pip install --user numpy"
   ]
  },
  {
   "cell_type": "markdown",
   "metadata": {
    "deletable": false,
    "editable": false,
    "nbgrader": {
     "cell_type": "markdown",
     "checksum": "2bd4a63e8f8a58754cecdcd98c77da3e",
     "grade": false,
     "grade_id": "cell-4ce730e8594c54d5",
     "locked": true,
     "schema_version": 3,
     "solution": false
    }
   },
   "source": [
    "### Q1 - Imports (0.25 pts)\n",
    "\n",
    "Once you've installed the package, you must import them to make their functionality available to you.\n",
    "\n",
    "Import `pandas` as `pd`.\n",
    "\n",
    "Import `numpy` as `np`.\n",
    "\n",
    "Finally, import the `random` module."
   ]
  },
  {
   "cell_type": "code",
   "execution_count": null,
   "metadata": {
    "deletable": false,
    "nbgrader": {
     "cell_type": "code",
     "checksum": "403712aacf69a932df2f086578cd7b4f",
     "grade": false,
     "grade_id": "cell-050b85009e63a59e",
     "locked": false,
     "schema_version": 3,
     "solution": true
    }
   },
   "outputs": [],
   "source": [
    "# YOUR CODE HERE\n",
    "raise NotImplementedError()"
   ]
  },
  {
   "cell_type": "code",
   "execution_count": null,
   "metadata": {
    "deletable": false,
    "editable": false,
    "nbgrader": {
     "cell_type": "code",
     "checksum": "fcc53bd7a59f6d01c84a46fb14395c04",
     "grade": true,
     "grade_id": "cell-872c87ddf400dbb1",
     "locked": true,
     "points": 0.25,
     "schema_version": 3,
     "solution": false
    }
   },
   "outputs": [],
   "source": [
    "assert np\n",
    "assert pd\n",
    "assert random"
   ]
  },
  {
   "cell_type": "markdown",
   "metadata": {
    "deletable": false,
    "editable": false,
    "nbgrader": {
     "cell_type": "markdown",
     "checksum": "f1b6d6516cc645e65a2e6a1d77831e59",
     "grade": false,
     "grade_id": "cell-d615b130c76c1073",
     "locked": true,
     "schema_version": 3,
     "solution": false
    }
   },
   "source": [
    "## Part 1: `numpy`\n",
    "\n",
    "`numpy` makes working with matrices that store homogenous data (most typically a whole bunch of numbers) in rows and columns much simpler than it would be with the standard Python libary.\n",
    "\n",
    "In this section, you'll get practice creating and working with `numpy` arrays."
   ]
  },
  {
   "cell_type": "markdown",
   "metadata": {
    "deletable": false,
    "editable": false,
    "nbgrader": {
     "cell_type": "markdown",
     "checksum": "c3761a87aede4e5acb65a8383a69d941",
     "grade": false,
     "grade_id": "cell-e411b6bbeed23b3e",
     "locked": true,
     "schema_version": 3,
     "solution": false
    }
   },
   "source": [
    "### Q2 - arrays (0.5 pts)\n",
    "\n",
    "Create a 3 x 3 `numpy` array. \n",
    "\n",
    "The 0th row should store `[1, 2, 3]`, the next row should contain `[4, 5, 6]` and the final row should contain `[7, 8, 9]`. \n",
    "\n",
    "Store this output in `my_array`."
   ]
  },
  {
   "cell_type": "code",
   "execution_count": null,
   "metadata": {
    "deletable": false,
    "nbgrader": {
     "cell_type": "code",
     "checksum": "5a79d37f39e031e5c758989eb718d600",
     "grade": false,
     "grade_id": "cell-cf266c1d9c676e32",
     "locked": false,
     "schema_version": 3,
     "solution": true
    }
   },
   "outputs": [],
   "source": [
    "# YOUR CODE HERE\n",
    "raise NotImplementedError()"
   ]
  },
  {
   "cell_type": "code",
   "execution_count": null,
   "metadata": {
    "deletable": false,
    "editable": false,
    "nbgrader": {
     "cell_type": "code",
     "checksum": "3bb547a3402f11d10b4b710c2fe9d9e4",
     "grade": true,
     "grade_id": "cell-a63c3e14cd8bef06",
     "locked": true,
     "points": 0.25,
     "schema_version": 3,
     "solution": false
    }
   },
   "outputs": [],
   "source": [
    "assert(isinstance(my_array, np.ndarray))"
   ]
  },
  {
   "cell_type": "code",
   "execution_count": null,
   "metadata": {
    "deletable": false,
    "editable": false,
    "nbgrader": {
     "cell_type": "code",
     "checksum": "6a776abaa847c5ea926cba2f1aa9cfe8",
     "grade": true,
     "grade_id": "cell-95c46aa866d56940",
     "locked": true,
     "points": 0.25,
     "schema_version": 3,
     "solution": false
    }
   },
   "outputs": [],
   "source": [
    "assert(my_array.shape == (3,3))\n"
   ]
  },
  {
   "cell_type": "markdown",
   "metadata": {
    "deletable": false,
    "editable": false,
    "nbgrader": {
     "cell_type": "markdown",
     "checksum": "b634593191484e967803fb38b699aad5",
     "grade": false,
     "grade_id": "cell-d9d6a65408aade24",
     "locked": true,
     "schema_version": 3,
     "solution": false
    }
   },
   "source": [
    "### Q3 - `row_sums()` ( 0.5 pts)\n",
    "\n",
    "Write a function `row_sums()` that takes a `numpy` array `np_array` as its input parameter. \n",
    "\n",
    "Within the function, determine the sum of each row.\n",
    "\n",
    "Store the sum of each row as a list. \n",
    "\n",
    "Return the list of the row sums from the function."
   ]
  },
  {
   "cell_type": "code",
   "execution_count": null,
   "metadata": {
    "deletable": false,
    "nbgrader": {
     "cell_type": "code",
     "checksum": "d0bba2702584e5497862666a65efede9",
     "grade": false,
     "grade_id": "cell-5142bdb92a2e0259",
     "locked": false,
     "schema_version": 3,
     "solution": true
    }
   },
   "outputs": [],
   "source": [
    "# YOUR CODE HERE\n",
    "raise NotImplementedError()"
   ]
  },
  {
   "cell_type": "code",
   "execution_count": null,
   "metadata": {
    "deletable": false,
    "editable": false,
    "nbgrader": {
     "cell_type": "code",
     "checksum": "2958c9c0cad92a34d15de59c61a1ac23",
     "grade": true,
     "grade_id": "cell-874e98fe14d9aa66",
     "locked": true,
     "points": 0.25,
     "schema_version": 3,
     "solution": false
    }
   },
   "outputs": [],
   "source": [
    "test_output = row_sums(np.array([[1,1], [2,2]]))\n",
    "assert(isinstance(test_output, list))"
   ]
  },
  {
   "cell_type": "code",
   "execution_count": null,
   "metadata": {
    "deletable": false,
    "editable": false,
    "nbgrader": {
     "cell_type": "code",
     "checksum": "55a05dc4abdf6a793c093c994fda0362",
     "grade": true,
     "grade_id": "cell-d4963d366c47bb5f",
     "locked": true,
     "points": 0.25,
     "schema_version": 3,
     "solution": false
    }
   },
   "outputs": [],
   "source": [
    "assert(len(test_output) == 2)\n"
   ]
  },
  {
   "cell_type": "markdown",
   "metadata": {
    "deletable": false,
    "editable": false,
    "nbgrader": {
     "cell_type": "markdown",
     "checksum": "603e90be1abcd1d3eca3a565e6916768",
     "grade": false,
     "grade_id": "cell-ff55d7b8d27802d3",
     "locked": true,
     "schema_version": 3,
     "solution": false
    }
   },
   "source": [
    "### Q4 - `array_min()` (0.75 pts)\n",
    "\n",
    "Write a function `array_min()` that takes a `numpy` array `np_array` as its input parameter. \n",
    "\n",
    "Within the function, determine the minimum value stored within the array. Store this in `min_val`.\n",
    "\n",
    "Then, store the *position* where this minimum value is stored in the input array in `out`. This output should be a tuple of `ndarrays`. \n",
    "\n",
    "For example, if the smallest value in the input array is in the first row, second column, this function would return: `(array([0]), array([1]))`\n",
    "\n",
    "**Note:** The `where()` function from `numpy` will likely be helpful.\n",
    "\n",
    "Return `out` (which stores the minimum position) from the function."
   ]
  },
  {
   "cell_type": "code",
   "execution_count": null,
   "metadata": {},
   "outputs": [],
   "source": [
    "# uncomment to see where documentation\n",
    "# np.where?"
   ]
  },
  {
   "cell_type": "code",
   "execution_count": null,
   "metadata": {
    "deletable": false,
    "nbgrader": {
     "cell_type": "code",
     "checksum": "77fe72af7696d570695709e9b84002a4",
     "grade": false,
     "grade_id": "cell-00602f87d582014d",
     "locked": false,
     "schema_version": 3,
     "solution": true
    }
   },
   "outputs": [],
   "source": [
    "# YOUR CODE HERE\n",
    "raise NotImplementedError()"
   ]
  },
  {
   "cell_type": "code",
   "execution_count": null,
   "metadata": {
    "deletable": false,
    "editable": false,
    "nbgrader": {
     "cell_type": "code",
     "checksum": "ebab497725b4dda245d18ed0bbe892a7",
     "grade": true,
     "grade_id": "cell-22d45ee3893a74b0",
     "locked": true,
     "points": 0.25,
     "schema_version": 3,
     "solution": false
    }
   },
   "outputs": [],
   "source": [
    "test_array = np.array([[17,1], [25,50]])\n",
    "assert(isinstance(array_min(test_array), tuple))"
   ]
  },
  {
   "cell_type": "code",
   "execution_count": null,
   "metadata": {
    "deletable": false,
    "editable": false,
    "nbgrader": {
     "cell_type": "code",
     "checksum": "8aeb10292b66c31b1f9e5d5f5166ec1a",
     "grade": true,
     "grade_id": "cell-fe0c926646825144",
     "locked": true,
     "points": 0.5,
     "schema_version": 3,
     "solution": false
    }
   },
   "outputs": [],
   "source": [
    "assert(len(array_min(test_array)) == 2)\n"
   ]
  },
  {
   "cell_type": "markdown",
   "metadata": {
    "deletable": false,
    "editable": false,
    "nbgrader": {
     "cell_type": "markdown",
     "checksum": "faab923da5df68c6d4c80d0abc0cd91d",
     "grade": false,
     "grade_id": "cell-e170e736a41418a9",
     "locked": true,
     "schema_version": 3,
     "solution": false
    }
   },
   "source": [
    "### Background: Experiment\n",
    "\n",
    "Now that you've got some practice with `numpy` and arrays, for the rest of this assignment, we'll focus on writing code that is helpful when running and analyzing experiments. \n",
    "\n",
    "The goal of this experiment is to understand randomness a little better while.\n",
    "\n",
    "To do this, we'll use a simple task. Adults were asked to randomly pick a number between 0 and Infinity. \n",
    "\n",
    "The population for this experiment was COGS 18 students from Spring 2019. \n",
    "\n",
    "Here, our goal is to determine: \n",
    "\n",
    "1. When asked to be random, are the numbers humans chose *actually* random?\n",
    "2. If they are not random, what is/are the most commonly chosen number(s)? \n",
    "\n",
    "To do this, we'll use `pandas` DataFrames and functions you write to answer these questions."
   ]
  },
  {
   "cell_type": "markdown",
   "metadata": {
    "deletable": false,
    "editable": false,
    "nbgrader": {
     "cell_type": "markdown",
     "checksum": "0ea0b816ae65fe82ee39acde10fdd834",
     "grade": false,
     "grade_id": "cell-4776fa0370569b07",
     "locked": true,
     "schema_version": 3,
     "solution": false
    }
   },
   "source": [
    "## Part 2: `pandas`\n",
    "\n",
    "While `numpy` revolutionized how to work with matrices in Python, `pandas` took things one step further in its introduction of the DataFrame. \n",
    "\n",
    "Here, you'll begin working with a dataset that stores heterogeneous information to gain practice with `pandas`.\n"
   ]
  },
  {
   "cell_type": "markdown",
   "metadata": {
    "deletable": false,
    "editable": false,
    "nbgrader": {
     "cell_type": "markdown",
     "checksum": "3a35add6cc5eab5491818ab6950eb122",
     "grade": false,
     "grade_id": "cell-4dc41aea1a826a37",
     "locked": true,
     "schema_version": 3,
     "solution": false
    }
   },
   "source": [
    "### Q5 - Data (0.5 pts)\n",
    "\n",
    "One very helpful function in `pandas` allows users to read datasets into Python from a CSV file and store them as a DataFrame.\n",
    "\n",
    "Look up documentation for `pandas` online and figure out how to read in a CSV file into Python as a DataFrame using `read_csv()`. Use the default settings for `read_csv` here.\n",
    "\n",
    "The data you will read into this notebook are in `data/random_guess.csv`. \n",
    "\n",
    "Assign this DataFrame to the variable `df`."
   ]
  },
  {
   "cell_type": "code",
   "execution_count": null,
   "metadata": {
    "deletable": false,
    "nbgrader": {
     "cell_type": "code",
     "checksum": "cd334fe8d3cbcd976f38b0a0f668e99d",
     "grade": false,
     "grade_id": "cell-f222544efc507350",
     "locked": false,
     "schema_version": 3,
     "solution": true
    }
   },
   "outputs": [],
   "source": [
    "# YOUR CODE HERE\n",
    "raise NotImplementedError()"
   ]
  },
  {
   "cell_type": "code",
   "execution_count": null,
   "metadata": {
    "deletable": false,
    "editable": false,
    "nbgrader": {
     "cell_type": "code",
     "checksum": "233d18711e7086f159a5183444b4011a",
     "grade": true,
     "grade_id": "cell-9cf95e226842b382",
     "locked": true,
     "points": 0.25,
     "schema_version": 3,
     "solution": false
    }
   },
   "outputs": [],
   "source": [
    "# check to ensure that what you read in is a pandas dataframe\n",
    "assert(isinstance(df, pd.DataFrame))"
   ]
  },
  {
   "cell_type": "code",
   "execution_count": null,
   "metadata": {
    "deletable": false,
    "editable": false,
    "nbgrader": {
     "cell_type": "code",
     "checksum": "1d3b36e2fdf946bf19b96b024f49bd4d",
     "grade": true,
     "grade_id": "cell-4bb941fb6acd48ed",
     "locked": true,
     "points": 0.25,
     "schema_version": 3,
     "solution": false
    }
   },
   "outputs": [],
   "source": [
    "assert(df.shape == (272,2))\n"
   ]
  },
  {
   "cell_type": "markdown",
   "metadata": {
    "deletable": false,
    "editable": false,
    "nbgrader": {
     "cell_type": "markdown",
     "checksum": "57a5c410afb79c0bcb5997e4d41120e2",
     "grade": false,
     "grade_id": "cell-ce849e21a2c40365",
     "locked": true,
     "schema_version": 3,
     "solution": false
    }
   },
   "source": [
    "### Look at the data\n",
    "\n",
    "Run the code below to get a sense of the data you've just read in:"
   ]
  },
  {
   "cell_type": "code",
   "execution_count": null,
   "metadata": {
    "deletable": false,
    "editable": false,
    "nbgrader": {
     "cell_type": "code",
     "checksum": "31a26d94efaad39b6adf15601901ecc1",
     "grade": false,
     "grade_id": "cell-1ef8b78fba3f9d75",
     "locked": true,
     "schema_version": 3,
     "solution": false
    }
   },
   "outputs": [],
   "source": [
    "# see the first few rows of data frame you read in\n",
    "df.head()"
   ]
  },
  {
   "cell_type": "markdown",
   "metadata": {
    "deletable": false,
    "editable": false,
    "nbgrader": {
     "cell_type": "markdown",
     "checksum": "232bd9892c94de67951b194fc68ed158",
     "grade": false,
     "grade_id": "cell-9cd6088190f3d82a",
     "locked": true,
     "schema_version": 3,
     "solution": false
    }
   },
   "source": [
    "In this dataset, each row is data collected from student. While we only see the first five rows, there are 272 individuals who participated in our experiment. The first column includes the experimental ID for the student. The second column includes their random guess.\n",
    "\n",
    "We'll be working with these data throughout the rest of the assignment."
   ]
  },
  {
   "cell_type": "markdown",
   "metadata": {
    "deletable": false,
    "editable": false,
    "nbgrader": {
     "cell_type": "markdown",
     "checksum": "20ae388947c306f6bb3ece9a9ceba6fb",
     "grade": false,
     "grade_id": "cell-b6f38e5382756137",
     "locked": true,
     "schema_version": 3,
     "solution": false
    }
   },
   "source": [
    "## Part 3: Experimentation\n"
   ]
  },
  {
   "cell_type": "markdown",
   "metadata": {
    "deletable": false,
    "editable": false,
    "nbgrader": {
     "cell_type": "markdown",
     "checksum": "d52968860e404ccc9c4578a8c6507a0b",
     "grade": false,
     "grade_id": "cell-42d5077e4ef67131",
     "locked": true,
     "schema_version": 3,
     "solution": false
    }
   },
   "source": [
    "### Q6 - Unique Items (1 pt)\n",
    "\n",
    "If people chose a number between 0 and Infinity truly at random, we would not expect a sample of a couple hundred people to frequently choose the same number. \n",
    "\n",
    "Let's write a function to start to assess randomness in human choice.\n",
    "\n",
    "Define a function called `calculate_unique`. \n",
    "\n",
    "Inputs:\n",
    "- `data` - DataFrame\n",
    "- `variable` - name of column in `data` to summarize (string)\n",
    "\n",
    "Output: \n",
    "- `num_unique`, `num_total`, `num_unique/num_total`\n",
    "\n",
    "Procedure:\n",
    "1. Calculate the number of unique responses in the specified variable of the input DataFrame. Store this in `num_unique`. (Hint: there is a `unique()` function in `pandas`)\n",
    "2. Calculate the number of total responses. Store this in `num_total`\n",
    "3. Return, `num_unique`, `num_total`, and the proportion of unique responses (`num_unique/num_total`) - Return all three, separated by commas, in the `return` statement.\n"
   ]
  },
  {
   "cell_type": "code",
   "execution_count": null,
   "metadata": {
    "deletable": false,
    "nbgrader": {
     "cell_type": "code",
     "checksum": "e95e5ec7bf6789fd7721b27247ff9baa",
     "grade": false,
     "grade_id": "cell-f19d7c9d3dacb5eb",
     "locked": false,
     "schema_version": 3,
     "solution": true
    }
   },
   "outputs": [],
   "source": [
    "# YOUR CODE HERE\n",
    "raise NotImplementedError()"
   ]
  },
  {
   "cell_type": "code",
   "execution_count": null,
   "metadata": {
    "deletable": false,
    "editable": false,
    "nbgrader": {
     "cell_type": "code",
     "checksum": "784277b1705c11e2d9c70c72e00c6ab2",
     "grade": true,
     "grade_id": "cell-b3f85cace53f55fb",
     "locked": true,
     "points": 1,
     "schema_version": 3,
     "solution": false
    }
   },
   "outputs": [],
   "source": [
    "test_df = pd.DataFrame({'ID' : [1, 2, 3], \n",
    "                        'response' : ['a', 'a', 'b']})\n",
    "num_unique, num_total, prop_unique = calculate_unique(test_df, 'response')\n",
    "assert(num_unique == 2)\n",
    "assert(num_total == 3)"
   ]
  },
  {
   "cell_type": "markdown",
   "metadata": {
    "deletable": false,
    "editable": false,
    "nbgrader": {
     "cell_type": "markdown",
     "checksum": "91cb4591cd94c862b672c5f616b55f64",
     "grade": false,
     "grade_id": "cell-63b625a5bbcc1a90",
     "locked": true,
     "schema_version": 3,
     "solution": false
    }
   },
   "source": [
    "### Q7 - Debugging (1 pts)\n",
    "\n",
    "Often, as we write functions, we don't get it *quite* right the first time around. A function here has been provided for you, but it's not working just yet. \n",
    "\n",
    "This function should accomplish the following: \n",
    "\n",
    "1. Randomly sample `n` rows from the dataset (where `n` is the number of rows, specified when the function is called).\n",
    "2. Return the smaller subset as a data frame from the function.\n",
    "\n",
    "Read and understand the instructions above, the function provided here, and the error message(s) produced to determine how to debug the function to (1) get it working and (2) accomplish the task specified above.\n",
    "\n",
    "Function to start with provided below.\n",
    "\n",
    "Do not change the function name or the input parameter name. However, adding additional parameters to your function definition is required."
   ]
  },
  {
   "cell_type": "code",
   "execution_count": null,
   "metadata": {
    "deletable": false,
    "nbgrader": {
     "cell_type": "code",
     "checksum": "5dd3244825dad0c83d5ac6cec38b06a4",
     "grade": false,
     "grade_id": "cell-6baa903ebdb06bd6",
     "locked": false,
     "schema_version": 3,
     "solution": true
    }
   },
   "outputs": [],
   "source": [
    "def select_sample(dataset):\n",
    "    out = data.sample(10, replace = False)\n",
    "    return out\n",
    "\n",
    "# YOUR CODE HERE\n",
    "raise NotImplementedError()"
   ]
  },
  {
   "cell_type": "code",
   "execution_count": null,
   "metadata": {},
   "outputs": [],
   "source": [
    "## Use this cell to test, if needed"
   ]
  },
  {
   "cell_type": "code",
   "execution_count": null,
   "metadata": {
    "deletable": false,
    "editable": false,
    "nbgrader": {
     "cell_type": "code",
     "checksum": "d366d119efa050a04a11935c60677d6f",
     "grade": true,
     "grade_id": "cell-da904f640c654c47",
     "locked": true,
     "points": 1,
     "schema_version": 3,
     "solution": false
    }
   },
   "outputs": [],
   "source": [
    "sub_df = select_sample(df, 10)\n",
    "assert(sub_df.shape == (10, 2))\n",
    "assert(sub_df.iloc[0,1] in df.Number.values)\n",
    "\n",
    "sub_df2 = select_sample(df, 15)\n",
    "assert(sub_df2.shape == (15, 2))\n",
    "assert(sub_df2.iloc[0,1] in df.Number.values)"
   ]
  },
  {
   "cell_type": "markdown",
   "metadata": {
    "deletable": false,
    "editable": false,
    "nbgrader": {
     "cell_type": "markdown",
     "checksum": "a2df67dc4ddeda43be003cc7895a9e5d",
     "grade": false,
     "grade_id": "cell-ee0b8f5f992b96f4",
     "locked": true,
     "schema_version": 3,
     "solution": false
    }
   },
   "source": [
    "### Q8 - Refactoring (0.75 pts)\n",
    "\n",
    "Beyond just getting a function working, it's important, as we write functions, to make sure they're as clear and streamlined as possible. \n",
    "\n",
    "The process of restructuring existing code that is working to improve its readability or speed is called **refactoring**.\n",
    "\n",
    "By refactoring your code, the output shouldn't change, but the efficiency and/or readability of the code should. For example, if you have a whole bunch of `if`/`elif`/`else` statements that are all very similar and involve lots of copy and pasting, there's probably a way to refactor the code to improve the readability. If you have a whole bunch of nested `for` loops, there's almost certainly a way to refactor the code.\n",
    "\n",
    "Refactored code is easer to read, easier to debug, and easier to modify.\n",
    "\n",
    "The code provided in the `calculate_common()` function works, but it's really confusing to figure out what's going on. Refactor the code provided so that the code within the function has fewer than 5 lines of code, while accomplishing the same task. (Note: you may have to use the Internet to gather some possible ideas/approaches.)\n",
    "\n",
    "If you're unsure where to start:\n",
    "\n",
    "1. Run the code that you have to start. \n",
    "2. Before changing anything, call the function and see what it outputs.\n",
    "3. Add comments to each chunk of code in the function to understand how it works currently.\n",
    "4. Refactor the code - this could involve changing small pieces at a time or taking an entirely different approach.\n",
    "5. Be sure to remove any comments that no longer apply.\n",
    "\n",
    "Function to start with is provided for you below: "
   ]
  },
  {
   "cell_type": "code",
   "execution_count": null,
   "metadata": {
    "deletable": false,
    "nbgrader": {
     "cell_type": "code",
     "checksum": "5846c1c7b9fe0f5188a89e0780688dd8",
     "grade": false,
     "grade_id": "cell-26c19566007124b7",
     "locked": false,
     "schema_version": 3,
     "solution": true
    }
   },
   "outputs": [],
   "source": [
    "def calculate_common(dataset, column):\n",
    "\n",
    "    items = dataset[column].unique()\n",
    "\n",
    "    out_count = {}\n",
    "\n",
    "    for item in items:\n",
    "        item_counter = 0\n",
    "\n",
    "        for ind in dataset.index:\n",
    "            if dataset.loc[ind, column] == item:\n",
    "                item_counter += 1\n",
    "\n",
    "        out_count[item] = item_counter\n",
    "\n",
    "    def sort_dict(dictionary, reverse_it = True):\n",
    "\n",
    "        sorted_dictionary = sorted(dictionary.items(), \n",
    "                                   key = lambda x: x[1], \n",
    "                                   reverse = reverse_it)\n",
    "\n",
    "        return sorted_dictionary\n",
    "\n",
    "    sorted_dict = sort_dict(out_count)\n",
    "\n",
    "    return sorted_dict[0]\n",
    "\n",
    "# YOUR CODE HERE\n",
    "raise NotImplementedError()"
   ]
  },
  {
   "cell_type": "code",
   "execution_count": null,
   "metadata": {},
   "outputs": [],
   "source": [
    "## Use this cell to test your function\n",
    "calculate_common(df, 'Number')"
   ]
  },
  {
   "cell_type": "code",
   "execution_count": null,
   "metadata": {
    "deletable": false,
    "editable": false,
    "nbgrader": {
     "cell_type": "code",
     "checksum": "9060ad5cac1d004771882a3acce51883",
     "grade": true,
     "grade_id": "cell-96c223c9d5877ee2",
     "locked": true,
     "points": 0.25,
     "schema_version": 3,
     "solution": false
    }
   },
   "outputs": [],
   "source": [
    "test_df = pd.DataFrame({'ID' : [1, 2, 3], \n",
    "                        'response' : ['a', 'a', 'b']})\n",
    "\n",
    "assert(calculate_common(test_df, 'response') == ('a', 2))"
   ]
  },
  {
   "cell_type": "code",
   "execution_count": null,
   "metadata": {
    "deletable": false,
    "editable": false,
    "nbgrader": {
     "cell_type": "code",
     "checksum": "80ea34527f475384e373f923163d01fc",
     "grade": true,
     "grade_id": "cell-ecdf2662e44058e7",
     "locked": true,
     "points": 0.5,
     "schema_version": 3,
     "solution": false
    }
   },
   "outputs": [],
   "source": [
    "assert(callable(calculate_common))\n"
   ]
  },
  {
   "cell_type": "markdown",
   "metadata": {
    "deletable": false,
    "editable": false,
    "nbgrader": {
     "cell_type": "markdown",
     "checksum": "bc1b2f1b31a396613c3f2a4eaa21b61c",
     "grade": false,
     "grade_id": "cell-9efaec80db10227a",
     "locked": true,
     "schema_version": 3,
     "solution": false
    }
   },
   "source": [
    "### Q9 - `split_dataset` (1 pt)\n",
    "\n",
    "Earlier, we defined a function `select_sample()` which allowed us to randomly sample a subset from our larger dataset.\n",
    "\n",
    "Now, rather than specifying how many samples we want to randomly choose from a dataframe, let's take our entire dataframe and split it into thirds. We'll consider each third a different **replicate** of our experiment.\n",
    "\n",
    "Write a function called `split_dataset`, which will return a list of dataframes. Each dataframe in the list will be a  random subsets (without replacement) of the input dataset.\n",
    "\n",
    "Input(s):\n",
    "- `dataset` : DataFrame\n",
    "- `n_split` : int, default: 3\n",
    "\n",
    "Output(s):\n",
    "- `result` :  list of DataFrame(s)\n",
    "\n",
    "Procedure(s):\n",
    "- Use `sample()` with the input parameters `frac = 1` and `replace = False`. Store this in `shuffled`.\n",
    "- Use `np.array_split` with `shuffled` and `n_split` as its input parameters. Store this in `result`.\n",
    "- return `result`, which stores a list of dataframes\n"
   ]
  },
  {
   "cell_type": "code",
   "execution_count": null,
   "metadata": {
    "deletable": false,
    "nbgrader": {
     "cell_type": "code",
     "checksum": "c42c0814828123d10ba9cb214d75e414",
     "grade": false,
     "grade_id": "cell-6f29a12f81a4097d",
     "locked": false,
     "schema_version": 3,
     "solution": true
    }
   },
   "outputs": [],
   "source": [
    "# YOUR CODE HERE\n",
    "raise NotImplementedError()"
   ]
  },
  {
   "cell_type": "code",
   "execution_count": null,
   "metadata": {
    "deletable": false,
    "editable": false,
    "nbgrader": {
     "cell_type": "code",
     "checksum": "9daab84c06198138176c3ac28cb7fc18",
     "grade": true,
     "grade_id": "cell-3c0f79e7ac5c5d1f",
     "locked": true,
     "points": 0.5,
     "schema_version": 3,
     "solution": false
    }
   },
   "outputs": [],
   "source": [
    "test_df = pd.DataFrame({'ID' : [1, 2, 3, 4, 5, 6, 7], \n",
    "                        'response' : ['a', 'a', 'b', 'c', 'd', 'd', 'e']})\n",
    "list_return = split_dataset(test_df, 2)\n",
    "assert(len(list_return) == 2)"
   ]
  },
  {
   "cell_type": "code",
   "execution_count": null,
   "metadata": {
    "deletable": false,
    "editable": false,
    "nbgrader": {
     "cell_type": "code",
     "checksum": "114d827c43d25d2e4130285c58819f7f",
     "grade": true,
     "grade_id": "cell-a878b31f9b7b2844",
     "locked": true,
     "points": 0.5,
     "schema_version": 3,
     "solution": false
    }
   },
   "outputs": [],
   "source": [
    "assert(callable(split_dataset))\n"
   ]
  },
  {
   "cell_type": "markdown",
   "metadata": {
    "deletable": false,
    "editable": false,
    "nbgrader": {
     "cell_type": "markdown",
     "checksum": "24f2f762ae292a990853306aa57f1338",
     "grade": false,
     "grade_id": "cell-ce61c215f6ecb731",
     "locked": true,
     "schema_version": 3,
     "solution": false
    }
   },
   "source": [
    "So far, we have a bunch of functions in a notebook. Ultimately, we'll want to use three of these functions (`calculate_unique()`, `split_dataset()` and `calculate_common()`) across different notebooks, on different input datasets. So, it's time to move these to a module, where we'll add comments and docstrings before importing them into this notebook."
   ]
  },
  {
   "cell_type": "markdown",
   "metadata": {
    "deletable": false,
    "editable": false,
    "nbgrader": {
     "cell_type": "markdown",
     "checksum": "e1c8de8e36b34953b5970cd842d453a3",
     "grade": false,
     "grade_id": "cell-ea0453234a7db483",
     "locked": true,
     "schema_version": 3,
     "solution": false
    }
   },
   "source": [
    "### Q10 - `my_experiment` module (1 pt)\n",
    "\n",
    "1. Move (copy) the code for the three functions (`calculate_unique()`, `split_dataset()` and `calculate_common()`) into a file named `my_experiment.py`. This file should be stored in the same directory as this notebook.\n",
    "2. Add `numpy` docstrings to each function.\n",
    "3. Add lines to `import` `numpy` as `np` and `pandas` as `pd` at the top of your module.\n",
    "3. Save your changes to `my_experiment.py`\n",
    "4. Return to this notebook, restart your kernel, and re-run all code in this notebook.\n",
    "5. Import the three functions using the following syntax: `import my_experiment as exp`."
   ]
  },
  {
   "cell_type": "code",
   "execution_count": null,
   "metadata": {
    "deletable": false,
    "nbgrader": {
     "cell_type": "code",
     "checksum": "feb9cf674ff3fa62a954ee8312dc7bd6",
     "grade": false,
     "grade_id": "cell-fadac5aa914a25fd",
     "locked": false,
     "schema_version": 3,
     "solution": true
    }
   },
   "outputs": [],
   "source": [
    "# YOUR CODE HERE\n",
    "raise NotImplementedError()"
   ]
  },
  {
   "cell_type": "code",
   "execution_count": null,
   "metadata": {
    "deletable": false,
    "editable": false,
    "nbgrader": {
     "cell_type": "code",
     "checksum": "5d586ab4df9027fa1b0ba184cb90fedf",
     "grade": true,
     "grade_id": "cell-2685a4a6ada0c37a",
     "locked": true,
     "points": 0.5,
     "schema_version": 3,
     "solution": false
    }
   },
   "outputs": [],
   "source": [
    "assert(callable(exp.calculate_common))\n",
    "assert(callable(exp.split_dataset))\n",
    "assert(callable(exp.calculate_unique))"
   ]
  },
  {
   "cell_type": "code",
   "execution_count": null,
   "metadata": {
    "deletable": false,
    "editable": false,
    "nbgrader": {
     "cell_type": "code",
     "checksum": "7202c63f4add17e77fcee1c56a31c685",
     "grade": true,
     "grade_id": "cell-ca0349ef57529a60",
     "locked": true,
     "points": 0.5,
     "schema_version": 3,
     "solution": false
    }
   },
   "outputs": [],
   "source": [
    "#hidden tests for this question"
   ]
  },
  {
   "cell_type": "markdown",
   "metadata": {
    "deletable": false,
    "editable": false,
    "nbgrader": {
     "cell_type": "markdown",
     "checksum": "46c110b4b23d7f9d48fcb4e6e29b0a56",
     "grade": false,
     "grade_id": "cell-40a7c7c0d43d33c0",
     "locked": true,
     "schema_version": 3,
     "solution": false
    }
   },
   "source": [
    "Now, let's put it all together. Be sure that `df` that you read in using `pandas` has been read in since restarting your kernel and then run the code below to:\n",
    "\n",
    "1. Randomly split up our data into 5 different experiments.\n",
    "2. Determine the most common 'random' number in each of our 5 datasets.\n",
    "3. Calculate the proportion of unique values in each of our 5 datasets."
   ]
  },
  {
   "cell_type": "code",
   "execution_count": null,
   "metadata": {
    "deletable": false,
    "editable": false,
    "nbgrader": {
     "cell_type": "code",
     "checksum": "c1311f7d6fabdec082ea79e911c88fe1",
     "grade": false,
     "grade_id": "cell-72eda0752bf82ff9",
     "locked": true,
     "schema_version": 3,
     "solution": false
    },
    "slideshow": {
     "slide_type": "slide"
    }
   },
   "outputs": [],
   "source": [
    "split_datasets = exp.split_dataset(df, 5)\n",
    "\n",
    "# loop through to calculate most common \n",
    "print('Calculating for each dataset: \\n')\n",
    "count = 1\n",
    "\n",
    "for dataset in split_datasets:    \n",
    "    id_max, max_val = exp.calculate_common(dataset, 'Number')\n",
    "    unique, total, proportion = exp.calculate_unique(dataset, 'Number')\n",
    "    print('Dataset', count, ': most common:', max_val, '; proportion unique:', proportion)\n",
    "    count += 1"
   ]
  },
  {
   "cell_type": "markdown",
   "metadata": {
    "deletable": false,
    "editable": false,
    "nbgrader": {
     "cell_type": "markdown",
     "checksum": "755fa9a80905c329d14c6edcdddb0cad",
     "grade": false,
     "grade_id": "cell-f61b0a7246acba15",
     "locked": true,
     "schema_version": 3,
     "solution": false
    }
   },
   "source": [
    "### Q11 - Interpretation (0.75 pts)\n",
    "\n",
    "We set out to answer the questions: \n",
    "1. When asked to be random, are the numbers humans chose *actually* random?\n",
    "2. What is/are the most commonly chosen numbers? \n",
    "\n",
    "Consider the output from your five experiments above.\n",
    "\n",
    "In the variable `humans_random`, store `True` if the data suggests humans are random and `False` if not.\n",
    "\n",
    "In the variable `most_common`, specify the value your experiment suggests is the most commonly chosen number when humans are asked to choose a number at random.\n",
    "\n",
    "In the variable `proportion_unique`, given the results above, store the proportion unique you'd expect from a new sample, rounded to the closest 10. For example, if you thought the proportion unique was 54\\%, you would store `proportion_unique = 50`. If you thought the proportion unique was 87%, you would state: `proportion_unique = 90`.\n",
    "\n",
    "Note that each time you run the cell above your answers will change slightly due to the randomness we built in. We're accounting for this when we check your answers below."
   ]
  },
  {
   "cell_type": "code",
   "execution_count": null,
   "metadata": {
    "deletable": false,
    "nbgrader": {
     "cell_type": "code",
     "checksum": "f53037d7f5998aa5f9207b16e3496c10",
     "grade": false,
     "grade_id": "cell-094146ba944bc85a",
     "locked": false,
     "schema_version": 3,
     "solution": true
    }
   },
   "outputs": [],
   "source": [
    "# YOUR CODE HERE\n",
    "raise NotImplementedError()"
   ]
  },
  {
   "cell_type": "code",
   "execution_count": null,
   "metadata": {
    "deletable": false,
    "editable": false,
    "nbgrader": {
     "cell_type": "code",
     "checksum": "639a49b70cc90b268d3373824b0f0ce2",
     "grade": true,
     "grade_id": "cell-0d9577ce3b2eaa15",
     "locked": true,
     "points": 0.25,
     "schema_version": 3,
     "solution": false
    }
   },
   "outputs": [],
   "source": [
    "assert(isinstance(most_common, int))\n",
    "assert(proportion_unique % 10 == 0)"
   ]
  },
  {
   "cell_type": "code",
   "execution_count": null,
   "metadata": {
    "deletable": false,
    "editable": false,
    "nbgrader": {
     "cell_type": "code",
     "checksum": "68922f61db1e7980933706cbbb946570",
     "grade": true,
     "grade_id": "cell-ff28695d497d63ba",
     "locked": true,
     "points": 0.5,
     "schema_version": 3,
     "solution": false
    }
   },
   "outputs": [],
   "source": [
    "assert(isinstance(humans_random, bool))\n"
   ]
  },
  {
   "cell_type": "markdown",
   "metadata": {
    "deletable": false,
    "editable": false,
    "nbgrader": {
     "cell_type": "markdown",
     "checksum": "b5090ebcc66ebaf27fc7badd870cb2bf",
     "grade": false,
     "grade_id": "cell-b696096b4c4da696",
     "locked": true,
     "schema_version": 3,
     "solution": false
    }
   },
   "source": [
    "# The End!\n",
    "\n",
    "Have a look back over your answers, and also make sure to Restart & Run All from the kernel menu to double check that everything is working properly and all of your asserts pass silently. \n",
    "\n",
    "When you are ready, submit on datahub."
   ]
  }
 ],
 "metadata": {
  "kernelspec": {
   "display_name": "Python 3",
   "language": "python",
   "name": "python3"
  },
  "language_info": {
   "codemirror_mode": {
    "name": "ipython",
    "version": 3
   },
   "file_extension": ".py",
   "mimetype": "text/x-python",
   "name": "python",
   "nbconvert_exporter": "python",
   "pygments_lexer": "ipython3",
   "version": "3.7.4"
  }
 },
 "nbformat": 4,
 "nbformat_minor": 2
}
