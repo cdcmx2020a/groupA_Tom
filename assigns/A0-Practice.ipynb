{
 "cells": [
  {
   "cell_type": "markdown",
   "metadata": {
    "deletable": false,
    "editable": false,
    "nbgrader": {
     "cell_type": "markdown",
     "checksum": "b6a1f81112b05deffa047fd03fb29f5b",
     "grade": false,
     "grade_id": "cell-6a5c4dbc3992de27",
     "locked": true,
     "schema_version": 3,
     "solution": false
    }
   },
   "source": [
    "# Assignment 0: Practice\n",
    "\n",
    "This assignment exists for practice only.\n",
    "\n",
    "This assignment is out of 0 points, worth 0% of your grade.\n",
    "\n",
    "This assignment covers assignment completion, datahub submission, and anaconda downloading.\n",
    "\n",
    "**PLEASE DO NOT CHANGE THE NAME OF THIS FILE.**\n",
    "\n",
    "**PLEASE DO NOT COPY & PASTE OR DELETE CELLS INLCUDED IN THE ASSIGNMENT.**\n"
   ]
  },
  {
   "cell_type": "markdown",
   "metadata": {
    "deletable": false,
    "editable": false,
    "nbgrader": {
     "cell_type": "markdown",
     "checksum": "ef9dcae52d13cea1360e040894b334cc",
     "grade": false,
     "grade_id": "cell-3e544e64e17ca55b",
     "locked": true,
     "schema_version": 3,
     "solution": false
    }
   },
   "source": [
    "## How to complete assignments\n",
    "\n",
    "Whenever you see:\n",
    "\n",
    "```\n",
    "# YOUR CODE HERE\n",
    "raise NotImplementedError()\n",
    "```\n",
    "\n",
    "You need to replace this section with some code that answers the questions and meets the specified criteria. Make sure you remove the 'raise' line when you do this (or your notebook will raise an error, regardless of any other code, and thus fail the grading tests).\n",
    "\n",
    "You should write the answer to the questions in those cells (the ones with `# YOUR CODE HERE`), but you can also add extra cells to explore / investigate things if you need / want to. \n",
    "\n",
    "Any cell with 'assert' statements in it is a test cell. You should not try to change or delete these cells. Note that there might be more than one assert that tests a particular question. \n",
    "\n",
    "If a test does fail, reading the error that is printed out should let you know which test failed, which may be useful for fixing it.\n",
    "\n",
    "Note that some cells, including the test cells, may be read only, which means they won't let you edit them. If you cannot edit a cell - that is normal, and you shouldn't need to edit that cell."
   ]
  },
  {
   "cell_type": "markdown",
   "metadata": {
    "deletable": false,
    "editable": false,
    "nbgrader": {
     "cell_type": "markdown",
     "checksum": "dbcce347583c226f757a445a0ec46151",
     "grade": false,
     "grade_id": "cell-333d4f7010dd432b",
     "locked": true,
     "schema_version": 3,
     "solution": false
    }
   },
   "source": [
    "### Q1 - Practice Question (0 points)\n",
    "\n",
    "Consider your response to the following question: which course are you MOST excited about this quarter?:\n",
    "- A) COGS 18\n",
    "- B) Introduction to Python\n",
    "- C) COGS18\n",
    "- D) Intro to Python\n",
    "\n",
    "Replace `raise NotImplementedError()` below to assign the letter corresponding to your response to the variable `favorite_class`. Be sure that you put quotes around the the letter for your response. \n",
    "\n",
    "For example, if \"COGS 18\" (option A above) were my answer, I would replace `raise NotImplementedError()` with `favorite_class = 'A'`.\n",
    "\n",
    "After you add your answer, run the code in that cell using 'Shift + Enter' or clicking the \"Run\" icon above. A number will appear to the left of the cell once your code has executed."
   ]
  },
  {
   "cell_type": "code",
   "execution_count": null,
   "metadata": {
    "deletable": false,
    "nbgrader": {
     "cell_type": "code",
     "checksum": "2cdd0f60ae4d93393c2ae97b6d495ad7",
     "grade": false,
     "grade_id": "cell-e4f640daee64fc2e",
     "locked": false,
     "schema_version": 3,
     "solution": true
    }
   },
   "outputs": [],
   "source": [
    "# YOUR CODE HERE\n",
    "raise NotImplementedError()"
   ]
  },
  {
   "cell_type": "markdown",
   "metadata": {
    "deletable": false,
    "editable": false,
    "nbgrader": {
     "cell_type": "markdown",
     "checksum": "716fd71570ce562349554cdc7f7288f4",
     "grade": false,
     "grade_id": "cell-3e04d9c42501b5d5",
     "locked": true,
     "schema_version": 3,
     "solution": false
    }
   },
   "source": [
    "Typically, after you write some code in your assignments, there will be a few assert statements, similar to what you see below. These help to check that you're on the right path. If you are on the right track, when you run the code in those cells, they will \"pass silently\", meaning you won't see any output. \n",
    "\n",
    "However, if you get an AssertionError, you'll want to return to the code you wrote and re-think your response."
   ]
  },
  {
   "cell_type": "code",
   "execution_count": null,
   "metadata": {
    "deletable": false,
    "editable": false,
    "nbgrader": {
     "cell_type": "code",
     "checksum": "66a7f30a5c779ac00677ebe69e512ae2",
     "grade": true,
     "grade_id": "cell-629d1512b290862d",
     "locked": true,
     "points": 0,
     "schema_version": 3,
     "solution": false
    }
   },
   "outputs": [],
   "source": [
    "possible_answers = ['A', 'B', 'C', 'D']\n",
    "assert favorite_class in possible_answers"
   ]
  },
  {
   "cell_type": "markdown",
   "metadata": {
    "deletable": false,
    "editable": false,
    "nbgrader": {
     "cell_type": "markdown",
     "checksum": "8584716ff01cdea64ddf8bc239337495",
     "grade": false,
     "grade_id": "cell-5a24e8b1d2a786e3",
     "locked": true,
     "schema_version": 3,
     "solution": false
    }
   },
   "source": [
    "**Note**: Just because an assert doesn't fail does *not* mean you've got the answer right. There are hidden tests in your assignments. These check to ensure the code you've written does what we asked. As long as you do what we ask *and* pass the assert statements, you'll receive full credit."
   ]
  },
  {
   "cell_type": "markdown",
   "metadata": {
    "deletable": false,
    "editable": false,
    "nbgrader": {
     "cell_type": "markdown",
     "checksum": "959012e21dc3d521cae3684fd29388ea",
     "grade": false,
     "grade_id": "cell-724d3a177f93690b",
     "locked": true,
     "schema_version": 3,
     "solution": false
    }
   },
   "source": [
    "## The End!\n",
    "\n",
    "This is the end of the practice assignment!\n",
    "\n",
    "Have a look back over your answers, and also make sure to `Restart & Run All` from the kernel menu to double check that everything is working properly. This restarts everything and runs your code from top to bottom.\n",
    "\n",
    "When you are ready to submit your assignment, you can click validate at the top. Note that in later assignments the code will take too long to run and validation may fail. Validation is just a final check that all the asserts are passing without failing.\n",
    "\n",
    "Once you're happy with your work, click the disk icon to save, return to the Assignments tab, and submit on DataHub! **You MUST submit the notebook to receive assignment credit. We cannot grade assignments that have not been submitted.**\n",
    "\n",
    "Note that you can submit at any time, but **we grade your most recent submission**. This means that **if you submit an updated notebook after the submission deadline, it will be marked as late**."
   ]
  }
 ],
 "metadata": {
  "kernelspec": {
   "display_name": "Python 3",
   "language": "python",
   "name": "python3"
  },
  "language_info": {
   "codemirror_mode": {
    "name": "ipython",
    "version": 3
   },
   "file_extension": ".py",
   "mimetype": "text/x-python",
   "name": "python",
   "nbconvert_exporter": "python",
   "pygments_lexer": "ipython3",
   "version": "3.7.4"
  }
 },
 "nbformat": 4,
 "nbformat_minor": 2
}
