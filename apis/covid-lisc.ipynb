{
 "cells": [
  {
   "cell_type": "markdown",
   "metadata": {},
   "source": [
    "# Literature Search & Analyses"
   ]
  },
  {
   "cell_type": "code",
   "execution_count": 1,
   "metadata": {},
   "outputs": [],
   "source": [
    "# To install LISC (for example, if you are running on Colab) run this cell\n",
    "#!pip install lisc"
   ]
  },
  {
   "cell_type": "code",
   "execution_count": 2,
   "metadata": {},
   "outputs": [],
   "source": [
    "from lisc import Counts\n",
    "from lisc.plts.counts import plot_matrix"
   ]
  },
  {
   "cell_type": "code",
   "execution_count": 3,
   "metadata": {},
   "outputs": [],
   "source": [
    "# Import matplotlib for plotting\n",
    "import matplotlib.pyplot as plt"
   ]
  },
  {
   "cell_type": "markdown",
   "metadata": {},
   "source": [
    "## The Pubmed API\n",
    "\n",
    "Base URL: `https://eutils.ncbi.nlm.nih.gov/entrez/eutils/`\n",
    "\n",
    "Search URL: `https://eutils.ncbi.nlm.nih.gov/entrez/eutils/esearch.fcgi?db=<DATABASE>&term=<TERM>`"
   ]
  },
  {
   "cell_type": "markdown",
   "metadata": {},
   "source": [
    "## Search for Country Information\n",
    "\n",
    "First, lets explore where research is talking about. \n",
    "\n",
    "Which countries are mentioned in COVID research?"
   ]
  },
  {
   "cell_type": "code",
   "execution_count": 4,
   "metadata": {},
   "outputs": [],
   "source": [
    "# Define search terms for COVID\n",
    "covid_terms = [['covid-19', 'covid19', 'coronavirus-19', 'coronavirus19']]\n",
    "\n",
    "# Define some country terms to search for \n",
    "country_terms = [['united states', 'USA'], ['mexico'], ['canada']]"
   ]
  },
  {
   "cell_type": "code",
   "execution_count": 5,
   "metadata": {},
   "outputs": [],
   "source": [
    "# Initialize counts object & add the terms that we want to collect co-occurrences for\n",
    "counts_country = Counts()\n",
    "counts_country.add_terms(covid_terms, dim='A')\n",
    "counts_country.add_terms(country_terms, dim='B')"
   ]
  },
  {
   "cell_type": "code",
   "execution_count": 6,
   "metadata": {},
   "outputs": [
    {
     "name": "stdout",
     "output_type": "stream",
     "text": [
      "Running counts for:  covid-19\n"
     ]
    }
   ],
   "source": [
    "# Collect co-occurrence data\n",
    "counts_country.run_collection(verbose=True)"
   ]
  },
  {
   "cell_type": "code",
   "execution_count": 7,
   "metadata": {},
   "outputs": [
    {
     "data": {
      "text/plain": [
       "array([1163,   68,  164])"
      ]
     },
     "execution_count": 7,
     "metadata": {},
     "output_type": "execute_result"
    }
   ],
   "source": [
    "# Check the count values\n",
    "counts_country.counts[0]"
   ]
  },
  {
   "cell_type": "code",
   "execution_count": 8,
   "metadata": {},
   "outputs": [
    {
     "data": {
      "image/png": "[encoded data removed]",
      "text/plain": [
       "<Figure size 432x288 with 1 Axes>"
      ]
     },
     "metadata": {
      "needs_background": "light"
     },
     "output_type": "display_data"
    }
   ],
   "source": [
    "# Plot the results of the counts by country\n",
    "plt.bar([0, 1, 2], counts_country.counts[0])\n",
    "plt.xticks([0, 1, 2], counts_country.terms['B'].labels);"
   ]
  },
  {
   "cell_type": "markdown",
   "metadata": {},
   "source": [
    "## Search for Symptom Information\n",
    "\n",
    "Next, lets explore what symptoms are being discussed in the research. "
   ]
  },
  {
   "cell_type": "code",
   "execution_count": 9,
   "metadata": {},
   "outputs": [],
   "source": [
    "# Set up some terms to search for\n",
    "covid_terms = [['covid-19', 'covid19', 'coronavirus-19', 'coronavirus19']]\n",
    "symptom_terms = [['heart', 'circulation'], ['lung', 'breathing'], ['stomach', 'digestion']]\n",
    "\n",
    "# Initialize counts object & add the terms that we want to collect co-occurrences for\n",
    "counts_symptom = Counts()\n",
    "counts_symptom.add_terms(covid_terms, dim='A')\n",
    "counts_symptom.add_terms(symptom_terms, dim='B')"
   ]
  },
  {
   "cell_type": "code",
   "execution_count": 10,
   "metadata": {},
   "outputs": [
    {
     "name": "stdout",
     "output_type": "stream",
     "text": [
      "Running counts for:  covid-19\n"
     ]
    }
   ],
   "source": [
    "# Collect co-occurrence data\n",
    "counts_symptom.run_collection(verbose=True)"
   ]
  },
  {
   "cell_type": "code",
   "execution_count": 11,
   "metadata": {},
   "outputs": [
    {
     "data": {
      "text/plain": [
       "array([ 828, 1769,   25])"
      ]
     },
     "execution_count": 11,
     "metadata": {},
     "output_type": "execute_result"
    }
   ],
   "source": [
    "# Check the count values\n",
    "counts_symptom.counts[0]"
   ]
  },
  {
   "cell_type": "code",
   "execution_count": 12,
   "metadata": {},
   "outputs": [
    {
     "data": {
      "image/png": "[encoded data removed]",
      "text/plain": [
       "<Figure size 432x288 with 1 Axes>"
      ]
     },
     "metadata": {
      "needs_background": "light"
     },
     "output_type": "display_data"
    }
   ],
   "source": [
    "# Plot the results of the counts across symptoms\n",
    "plt.bar([0, 1, 2], counts_symptom.counts[0])\n",
    "plt.xticks([0, 1, 2], counts_symptom.terms['B'].labels);"
   ]
  },
  {
   "cell_type": "markdown",
   "metadata": {},
   "source": [
    "## Compare Between Diseases\n",
    "\n",
    "Finally, lets compare the COVID literature to other, potentially similar, diseases. "
   ]
  },
  {
   "cell_type": "code",
   "execution_count": 13,
   "metadata": {},
   "outputs": [],
   "source": [
    "# Set up some terms to search for\n",
    "disease_terms = [['covid-19', 'covid19', 'coronavirus-19', 'coronavirus19'], \n",
    "                 ['influenza'], ['asthma'], ['diabetes']]\n",
    "symptom_terms = [['heart', 'circulation'],\n",
    "                 ['lung', 'respiratory'],\n",
    "                 ['stomach', 'digestion']]\n",
    "\n",
    "# Initialize counts object & add the terms that we want to collect co-occurrences for\n",
    "counts_disease = Counts()\n",
    "counts_disease.add_terms(disease_terms, dim='A')\n",
    "counts_disease.add_terms(symptom_terms, dim='B')"
   ]
  },
  {
   "cell_type": "code",
   "execution_count": 14,
   "metadata": {},
   "outputs": [
    {
     "name": "stdout",
     "output_type": "stream",
     "text": [
      "Running counts for:  covid-19\n",
      "Running counts for:  influenza\n",
      "Running counts for:  asthma\n",
      "Running counts for:  diabetes\n"
     ]
    }
   ],
   "source": [
    "# Collect co-occurrence data\n",
    "counts_disease.run_collection(verbose=True)"
   ]
  },
  {
   "cell_type": "code",
   "execution_count": 15,
   "metadata": {},
   "outputs": [
    {
     "data": {
      "image/png": "[encoded data removed]",
      "text/plain": [
       "<Figure size 432x288 with 2 Axes>"
      ]
     },
     "metadata": {
      "needs_background": "light"
     },
     "output_type": "display_data"
    }
   ],
   "source": [
    "# Plot a matrix of the number of articles per search term\n",
    "plot_matrix(counts_disease.counts,\n",
    "            counts_disease.terms['B'].labels,\n",
    "            counts_disease.terms['A'].labels)"
   ]
  },
  {
   "cell_type": "code",
   "execution_count": 16,
   "metadata": {},
   "outputs": [],
   "source": [
    "# Compute a normalization of the co-occurrence data\n",
    "counts_disease.compute_score('normalize', dim='A')"
   ]
  },
  {
   "cell_type": "code",
   "execution_count": 17,
   "metadata": {},
   "outputs": [
    {
     "data": {
      "image/png": "[encoded data removed]",
      "text/plain": [
       "<Figure size 432x288 with 2 Axes>"
      ]
     },
     "metadata": {
      "needs_background": "light"
     },
     "output_type": "display_data"
    }
   ],
   "source": [
    "# Plot a matrix of the  normalized data\n",
    "plot_matrix(counts_disease.score,\n",
    "            counts_disease.terms['B'].labels,\n",
    "            counts_disease.terms['A'].labels)"
   ]
  },
  {
   "cell_type": "markdown",
   "metadata": {},
   "source": [
    "## Mini Chatbot Example"
   ]
  },
  {
   "cell_type": "code",
   "execution_count": 18,
   "metadata": {},
   "outputs": [
    {
     "name": "stdout",
     "output_type": "stream",
     "text": [
      "Which two terms would you like to know how many papers there are about.\n"
     ]
    }
   ],
   "source": [
    "# \n",
    "print(\"Which two terms would you like to know how many papers there are about.\")"
   ]
  },
  {
   "cell_type": "code",
   "execution_count": 19,
   "metadata": {},
   "outputs": [
    {
     "name": "stdout",
     "output_type": "stream",
     "text": [
      "What is term 1: stress\n"
     ]
    }
   ],
   "source": [
    "# Mini-mini chatbot\n",
    "term1 = input('What is term 1: ')"
   ]
  },
  {
   "cell_type": "code",
   "execution_count": 20,
   "metadata": {},
   "outputs": [
    {
     "name": "stdout",
     "output_type": "stream",
     "text": [
      "What is term 2: meditation\n"
     ]
    }
   ],
   "source": [
    "# Mini-mini chatbot\n",
    "term2 = input('What is term 2: ')"
   ]
  },
  {
   "cell_type": "code",
   "execution_count": 21,
   "metadata": {},
   "outputs": [
    {
     "name": "stdout",
     "output_type": "stream",
     "text": [
      "Searching for terms: stress \t & meditation\n"
     ]
    }
   ],
   "source": [
    "print(\"Searching for terms: {} \\t & {}\".format(term1, term2))"
   ]
  },
  {
   "cell_type": "code",
   "execution_count": 22,
   "metadata": {},
   "outputs": [],
   "source": [
    "# Convert string to a list\n",
    "term1 = [term1]\n",
    "term2 = [term2]"
   ]
  },
  {
   "cell_type": "code",
   "execution_count": 23,
   "metadata": {},
   "outputs": [],
   "source": [
    "# Run literature collection\n",
    "chat_counts = Counts()\n",
    "chat_counts.add_terms(term1, dim='A')\n",
    "chat_counts.add_terms(term2, dim='B')\n",
    "chat_counts.run_collection()"
   ]
  },
  {
   "cell_type": "code",
   "execution_count": 28,
   "metadata": {},
   "outputs": [
    {
     "data": {
      "text/plain": [
       "array([[1430]])"
      ]
     },
     "execution_count": 28,
     "metadata": {},
     "output_type": "execute_result"
    }
   ],
   "source": [
    "# Check how many papers found for the given search terms\n",
    "chat_counts.counts"
   ]
  }
 ],
 "metadata": {
  "kernelspec": {
   "display_name": "Python 3",
   "language": "python",
   "name": "python3"
  },
  "language_info": {
   "codemirror_mode": {
    "name": "ipython",
    "version": 3
   },
   "file_extension": ".py",
   "mimetype": "text/x-python",
   "name": "python",
   "nbconvert_exporter": "python",
   "pygments_lexer": "ipython3",
   "version": "3.7.4"
  }
 },
 "nbformat": 4,
 "nbformat_minor": 4
}
